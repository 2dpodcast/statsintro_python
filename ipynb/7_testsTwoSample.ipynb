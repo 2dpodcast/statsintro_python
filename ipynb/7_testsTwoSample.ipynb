{
 "cells": [
  {
   "cell_type": "markdown",
   "metadata": {},
   "source": [
    "# Comparison of two groups"
   ]
  },
  {
   "cell_type": "markdown",
   "metadata": {},
   "source": [
    "- Analysis of paired data\n",
    "- Analysis of unpaired data\n",
    "\n",
    "Author:  Thomas Haslwanter, Date:    March-2015"
   ]
  },
  {
   "cell_type": "code",
   "execution_count": 1,
   "metadata": {
    "collapsed": false
   },
   "outputs": [
    {
     "name": "stdout",
     "output_type": "stream",
     "text": [
      "Populating the interactive namespace from numpy and matplotlib\n"
     ]
    }
   ],
   "source": [
    "%pylab inline\n",
    "#from numpy import genfromtxt, mean, std\n",
    "import scipy.stats as stats\n",
    "#import matplotlib.pyplot as plt\n",
    "import sys\n",
    "if sys.version_info.major == 3:\n",
    "    from urllib.request import urlopen\n",
    "else:\n",
    "    from urllib import urlopen"
   ]
  },
  {
   "cell_type": "markdown",
   "metadata": {},
   "source": [
    "## Paired data"
   ]
  },
  {
   "cell_type": "markdown",
   "metadata": {},
   "source": [
    "*Compare mean daily food intake in women over 10 pre-menstrual and 10 post-menstrual days (in kJ).*"
   ]
  },
  {
   "cell_type": "code",
   "execution_count": 2,
   "metadata": {
    "collapsed": false
   },
   "outputs": [],
   "source": [
    "# Get the data:  daily intake of energy in kJ for 11 women\n",
    "inFile = 'altman_93.txt'\n",
    "url_base = 'https://raw.githubusercontent.com/thomas-haslwanter/statsintro/master/Data/data_altman/'\n",
    "url = url_base + inFile\n",
    "data = genfromtxt(urlopen(url), delimiter=',')\n",
    "\n",
    "mean(data, axis=0)\n",
    "std(data, axis=0, ddof=1)\n",
    "\n",
    "pre = data[:,0]\n",
    "post = data[:,1]"
   ]
  },
  {
   "cell_type": "markdown",
   "metadata": {},
   "source": [
    "### Paired T-test"
   ]
  },
  {
   "cell_type": "code",
   "execution_count": 3,
   "metadata": {
    "collapsed": false
   },
   "outputs": [
    {
     "name": "stdout",
     "output_type": "stream",
     "text": [
      "Paired t-test: 0.0000003\n"
     ]
    }
   ],
   "source": [
    "# paired t-test: doing two measurments on the same experimental unit\n",
    "# e.g., before and after a treatment\n",
    "t_statistic, p_value = stats.ttest_1samp(post - pre, 0)\n",
    "\n",
    "# p < 0.05 => alternative hypothesis:\n",
    "# the difference in mean is not equal to 0\n",
    "print(\"Paired t-test: {0:.7f}\".format(p_value))"
   ]
  },
  {
   "cell_type": "markdown",
   "metadata": {},
   "source": [
    "### Wilcoxon Test"
   ]
  },
  {
   "cell_type": "code",
   "execution_count": 4,
   "metadata": {
    "collapsed": false
   },
   "outputs": [
    {
     "name": "stdout",
     "output_type": "stream",
     "text": [
      "Paired Wilcoxon-test: 0.0033\n"
     ]
    }
   ],
   "source": [
    "# alternative to paired t-test when the data are on an ordinary scale\n",
    "# or when they are not normally distributed\n",
    "z_statistic, p_value = stats.wilcoxon(post - pre)\n",
    "print(\"Paired Wilcoxon-test: {0:.4f}\".format(p_value))"
   ]
  },
  {
   "cell_type": "markdown",
   "metadata": {},
   "source": [
    "## Unpaired Data"
   ]
  },
  {
   "cell_type": "markdown",
   "metadata": {},
   "source": [
    "*Next some unpaired comparison: Compare the 24 hour total energy expenditure (MJ/day),\n",
    "in groups of lean and obese women.*"
   ]
  },
  {
   "cell_type": "code",
   "execution_count": 5,
   "metadata": {
    "collapsed": false
   },
   "outputs": [
    {
     "name": "stdout",
     "output_type": "stream",
     "text": [
      "Two-sample t-test: 0.0008\n"
     ]
    }
   ],
   "source": [
    "# Get the data: energy expenditure in mJ and stature (0=obese, 1=lean)\n",
    "inFile = 'altman_94.txt'\n",
    "url = url_base + inFile\n",
    "energ = genfromtxt(urlopen(url), delimiter=',')\n",
    "\n",
    "# Group them\n",
    "group1 = energ[:, 1] == 0\n",
    "group1 = energ[group1][:, 0]\n",
    "group2 = energ[:, 1] == 1\n",
    "group2 = energ[group2][:, 0]\n",
    "\n",
    "mean(group1)\n",
    "mean(group2)\n",
    "\n",
    "# two-sample t-test\n",
    "# null hypothesis: the two groups have the same mean\n",
    "# this test assumes the two groups have the same variance...\n",
    "# (can be checked with tests for equal variance)\n",
    "# independent groups: e.g., how boys and girls fare at an exam\n",
    "# dependent groups: e.g., how the same class fare at 2 different exams\n",
    "t_statistic, p_value = stats.ttest_ind(group1, group2)\n",
    "\n",
    "# p_value < 0.05 => alternative hypothesis:\n",
    "# they don't have the same mean at the 5% significance level\n",
    "print(\"Two-sample t-test: {0:.4f}\".format(p_value))"
   ]
  },
  {
   "cell_type": "code",
   "execution_count": 6,
   "metadata": {
    "collapsed": false
   },
   "outputs": [
    {
     "name": "stdout",
     "output_type": "stream",
     "text": [
      "Two-sample Wilcoxon-test: 0.0011\n"
     ]
    }
   ],
   "source": [
    "# For non-normally distributed data, perform the two-sample wilcoxon test\n",
    "# a.k.a Mann Whitney U\n",
    "u, p_value = stats.mannwhitneyu(group1, group2)\n",
    "print(\"Two-sample Wilcoxon-test: {0:.4f}\".format(p_value))"
   ]
  },
  {
   "cell_type": "code",
   "execution_count": 7,
   "metadata": {
    "collapsed": false
   },
   "outputs": [
    {
     "data": {
      "text/plain": [
       "<matplotlib.legend.Legend at 0x5be3590>"
      ]
     },
     "execution_count": 7,
     "metadata": {},
     "output_type": "execute_result"
    },
    {
     "data": {
      "image/png": "[encoded data removed]",
      "text/plain": [
       "<matplotlib.figure.Figure at 0x5b33fd0>"
      ]
     },
     "metadata": {},
     "output_type": "display_data"
    }
   ],
   "source": [
    "# Plot the data\n",
    "plot(group1, 'bx', label='obese')\n",
    "hold(True)\n",
    "plot(group2, 'ro', label='lean')\n",
    "legend(loc=0)"
   ]
  }
 ],
 "metadata": {
  "kernelspec": {
   "display_name": "Python 3",
   "language": "python",
   "name": "python3"
  },
  "language_info": {
   "codemirror_mode": {
    "name": "ipython",
    "version": 3
   },
   "file_extension": ".py",
   "mimetype": "text/x-python",
   "name": "python",
   "nbconvert_exporter": "python",
   "pygments_lexer": "ipython3",
   "version": "3.4.3"
  }
 },
 "nbformat": 4,
 "nbformat_minor": 0
}
