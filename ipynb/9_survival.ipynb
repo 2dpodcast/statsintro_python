{
 "cells": [
  {
   "cell_type": "markdown",
   "metadata": {},
   "source": [
    "# Survival Analysis"
   ]
  },
  {
   "cell_type": "markdown",
   "metadata": {},
   "source": [
    "- The first function draws the Survival Curve (Kaplan-Meier curve).\n",
    "- The second function implements the logrank test, comparing two survival curves.\n",
    "\n",
    "The formulas and the example are taken from Altman, Chapter 13\n",
    "\n",
    "Author : Thomas Haslwanter, Date : July-2015"
   ]
  },
  {
   "cell_type": "code",
   "execution_count": 1,
   "metadata": {
    "collapsed": false
   },
   "outputs": [],
   "source": [
    "%matplotlib inline\n",
    "import numpy as np\n",
    "import matplotlib.pyplot as plt\n",
    "from scipy import stats\n",
    "from urllib.request import urlopen"
   ]
  },
  {
   "cell_type": "code",
   "execution_count": 2,
   "metadata": {
    "collapsed": false
   },
   "outputs": [],
   "source": [
    "def kaplanmeier(data):\n",
    "    '''Determine and the Kaplan-Meier curve for the given data.\n",
    "    Censored times are indicated with \"1\" in the second column, uncensored with \"0\"'''\n",
    "    times = data[:,0]\n",
    "    censored = data[:,1]\n",
    "    atRisk = np.arange(len(times),0,-1)\n",
    "    \n",
    "    failures = times[censored==0]\n",
    "    num_failures = len(failures)\n",
    "    p = np.ones(num_failures+1)\n",
    "    r = np.zeros(num_failures+1)\n",
    "    se = np.zeros(num_failures+1)\n",
    "    \n",
    "    # Calculate the numbers-at-risk, the survival probability, and the standard error\n",
    "    for ii in range(num_failures):\n",
    "        if failures[ii] == failures[ii-1]:\n",
    "            r[ii+1] = r[ii]\n",
    "            p[ii+1] = p[ii]\n",
    "            se[ii+1] = se[ii]\n",
    "            \n",
    "        else:\n",
    "            r[ii+1] = np.max(atRisk[times==failures[ii]])\n",
    "            p[ii+1] = p[ii] * (r[ii+1] - sum(failures==failures[ii]))/r[ii+1]\n",
    "            se[ii+1] = p[ii+1]*np.sqrt((1-p[ii+1])/r[ii+1])\n",
    "            # confidence intervals could be calculated as ci = p +/- 1.96 se\n",
    "    \n",
    "    # Plot survival curve (Kaplan-Meier curve)\n",
    "    # Always start at t=0 and p=1, and make a line until the last measurement\n",
    "    t = np.hstack((0, failures, np.max(times)))\n",
    "    sp = np.hstack((p, p[-1]))\n",
    "    \n",
    "    return(p,atRisk,t,sp,se)"
   ]
  },
  {
   "cell_type": "code",
   "execution_count": 3,
   "metadata": {
    "collapsed": false
   },
   "outputs": [
    {
     "data": {
      "text/plain": [
       "<matplotlib.text.Text at 0x5bd62f0>"
      ]
     },
     "execution_count": 3,
     "metadata": {},
     "output_type": "execute_result"
    },
    {
     "data": {
      "image/png": "[encoded data removed]",
      "text/plain": [
       "<matplotlib.figure.Figure at 0x5b4f530>"
      ]
     },
     "metadata": {},
     "output_type": "display_data"
    }
   ],
   "source": [
    "# Get the data\n",
    "inFile1 = 'altman_13_2.txt'\n",
    "inFile2 = 'altman_13_3.txt'\n",
    "url_base = 'https://raw.github.com/thomas-haslwanter/statsintro/master/Data/data_altman/'\n",
    "url1 = url_base + inFile1\n",
    "url2 = url_base + inFile2\n",
    "data_1 = np.genfromtxt(urlopen(url1), delimiter=',')\n",
    "data_2 = np.genfromtxt(urlopen(url2), delimiter=',')\n",
    "\n",
    "# Determine the Kaplan-Meier curves\n",
    "(p1, r1, t1, sp1,se1) = kaplanmeier(data_1)\n",
    "(p2, r2, t2, sp2,se2) = kaplanmeier(data_2)\n",
    "\n",
    "# Make a combined plot for both datasets\n",
    "plt.step(t1,sp1, where='post')\n",
    "plt.hold(True)\n",
    "plt.step(t2,sp2,'r', where='post')\n",
    "\n",
    "plt.legend(['Data1', 'Data2'])\n",
    "plt.ylim(0,1)\n",
    "plt.xlabel('Time')\n",
    "plt.ylabel('Survival Probability')\n",
    "#plt.show()"
   ]
  },
  {
   "cell_type": "code",
   "execution_count": 4,
   "metadata": {
    "collapsed": false
   },
   "outputs": [
    {
     "name": "stdout",
     "output_type": "stream",
     "text": [
      "X^2 = 3.207\n",
      "p=0.0733, the two survival curves are not signifcantly different.\n"
     ]
    }
   ],
   "source": [
    "'''Logrank hypothesis test, comparing the survival times for two different datasets'''\n",
    "\n",
    "times_1 = data_1[:,0]\n",
    "censored_1 = data_1[:,1]\n",
    "atRisk_1 = np.arange(len(times_1),0,-1)\n",
    "failures_1 = times_1[censored_1==0]\n",
    "\n",
    "times_2 = data_2[:,0]\n",
    "censored_2 = data_2[:,1]\n",
    "atRisk_2 = np.arange(len(times_2),0,-1)\n",
    "failures_2 = times_2[censored_2==0]\n",
    "\n",
    "failures = np.unique(np.hstack((times_1[censored_1==0], times_2[censored_2==0])))\n",
    "num_failures = len(failures)\n",
    "r1 = np.zeros(num_failures)\n",
    "r2 = np.zeros(num_failures)\n",
    "r  = np.zeros(num_failures)\n",
    "f1 = np.zeros(num_failures)\n",
    "f2 = np.zeros(num_failures)\n",
    "f  = np.zeros(num_failures)\n",
    "e1 = np.zeros(num_failures)\n",
    "f1me1 = np.zeros(num_failures)\n",
    "v = np.zeros(num_failures)\n",
    "\n",
    "for ii in range(num_failures):\n",
    "    r1[ii] = np.sum(times_1 >= failures[ii])\n",
    "    r2[ii] = np.sum(times_2 >= failures[ii])\n",
    "    r[ii] = r1[ii] + r2[ii]\n",
    "    \n",
    "    f1[ii] = np.sum(failures_1==failures[ii])\n",
    "    f2[ii] = np.sum(failures_2==failures[ii])\n",
    "    f[ii] = f1[ii] + f2[ii]\n",
    "    \n",
    "    e1[ii] = r1[ii]*f[ii]/r[ii]\n",
    "    f1me1[ii] = f1[ii] - e1[ii]\n",
    "    v[ii] = r1[ii]*r2[ii]*f[ii]*(r[ii]-f[ii]) / ( r[ii]**2 *(r[ii]-1) )\n",
    "\n",
    "    O1 = np.sum(f1)\n",
    "    O2 = np.sum(f2)\n",
    "    E1 = np.sum(e1)\n",
    "    O1mE1 = np.sum(f1me1)\n",
    "    V = sum(v)\n",
    "    \n",
    "chi2 = (O1-E1)**2/V\n",
    "p = stats.chi2.sf(chi2, 1)\n",
    "\n",
    "print('X^2 = {0:5.3f}'.format(chi2))\n",
    "if p < 0.05:\n",
    "    print('p={0:6.4f}, the two survival curves are signifcantly different.'.format(p))\n",
    "else:\n",
    "    print('p={0:6.4f}, the two survival curves are not signifcantly different.'.format(p))"
   ]
  }
 ],
 "metadata": {
  "kernelspec": {
   "display_name": "Python 3",
   "language": "python",
   "name": "python3"
  },
  "language_info": {
   "codemirror_mode": {
    "name": "ipython",
    "version": 3
   },
   "file_extension": ".py",
   "mimetype": "text/x-python",
   "name": "python",
   "nbconvert_exporter": "python",
   "pygments_lexer": "ipython3",
   "version": "3.4.3"
  }
 },
 "nbformat": 4,
 "nbformat_minor": 0
}
