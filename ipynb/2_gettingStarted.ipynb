{
 "cells": [
  {
   "cell_type": "markdown",
   "metadata": {},
   "source": [
    "# Getting Started"
   ]
  },
  {
   "cell_type": "markdown",
   "metadata": {},
   "source": [
    "The top of Python files should always be a short documentation about the\n",
    "content of the file, or \"docstring\".\n",
    "\n",
    "This ipyton notebook is short demonstration of Python for scientific data analysis\n",
    "\n",
    "This script covers the following points:\n",
    "\n",
    "* Plotting a sine wave\n",
    "* Generating a column matrix of data\n",
    "* Writing data to a text-file, and reading data from a text-file\n",
    "* Waiting for a button-press to continue the program exectution\n",
    "* Using a dictionary, which is similar to MATLAB structures\n",
    "* Extracting data which fulfill a certain condition\n",
    "* Calculating the best-fit-line to noisy data\n",
    "* Formatting text-output\n",
    "* Waiting for a keyboard-press\n",
    "* Calculating confidence intervals for line-fits\n",
    "* Saving figures\n",
    "\n",
    "For such a short program, the definition of a \"main\" function, and calling\n",
    "it by default when the module is imported by the main program, is a bit\n",
    "superfluous. But it shows good Python coding style.\n",
    "\n",
    "Author: Thomas Haslwanter, Sept-2015"
   ]
  },
  {
   "cell_type": "markdown",
   "metadata": {},
   "source": [
    "# Modules and Packages"
   ]
  },
  {
   "cell_type": "code",
   "execution_count": 1,
   "metadata": {
    "collapsed": false
   },
   "outputs": [
    {
     "name": "stdout",
     "output_type": "stream",
     "text": [
      "Populating the interactive namespace from numpy and matplotlib\n"
     ]
    }
   ],
   "source": [
    "# To see the plots inline, even if you have not started the notebook \n",
    "# via \"ipython notebook --pylab=inline\"\n",
    "% pylab inline\n",
    "\n",
    "# Note: single comment lines are indicated by \"#\"."
   ]
  },
  {
   "cell_type": "markdown",
   "metadata": {},
   "source": [
    "In contrast to MATLAB, you explicitly have to load the modules that you need.\n",
    "And don't worry here about not knowing the right modules: *numpy*, *scipy*, and\n",
    "*matplotlib.pyplot* are almost everything you will need most of the time, and you\n",
    "will quickly get used to those.\n",
    "\n",
    "*pylab* automatically imports the most important components from numpy and\n",
    "matplotlib into the current workspace."
   ]
  },
  {
   "cell_type": "markdown",
   "metadata": {},
   "source": [
    "# Sine Wave"
   ]
  },
  {
   "cell_type": "code",
   "execution_count": 2,
   "metadata": {
    "collapsed": false
   },
   "outputs": [],
   "source": [
    "# Create a sine-wave\n",
    "t = arange(0,10,0.1)\n",
    "x = sin(t)\n",
    "\n",
    "# \"arange\" and \"sin\" are from the package \"numpy\". But since the command\n",
    "# \"pylab\" already loaded \"numpy\" into the current workspace, they are known\n",
    "# here.\n",
    "\n",
    "# Next, save the data in a text-file, in column form.\n",
    "# The formatting is a bit clumsy: data are by default row variables; so to\n",
    "# get a matrix, you stack the two rows above each other, and then transpose\n",
    "# the matrix.\n",
    "outFile = 'test.txt'\n",
    "savetxt(outFile, vstack([t,x]).T)"
   ]
  },
  {
   "cell_type": "code",
   "execution_count": 3,
   "metadata": {
    "collapsed": false
   },
   "outputs": [
    {
     "data": {
      "text/plain": [
       "[<matplotlib.lines.Line2D at 0x8798750>]"
      ]
     },
     "execution_count": 3,
     "metadata": {},
     "output_type": "execute_result"
    },
    {
     "data": {
      "image/png": "[encoded data removed]",
      "text/plain": [
       "<matplotlib.figure.Figure at 0x8748710>"
      ]
     },
     "metadata": {},
     "output_type": "display_data"
    }
   ],
   "source": [
    "# Read the data into a different variable\n",
    "inData = loadtxt(outFile)\n",
    "t2 = inData[:,0] # Note that Python starts at \"0\"!\n",
    "x2 = inData[:,1]\n",
    "\n",
    "# Note: Python used (...) for function arguments, and [...] for indexing.\n",
    "\n",
    "# Plot the data\n",
    "plot(t,sin(t))"
   ]
  },
  {
   "cell_type": "markdown",
   "metadata": {},
   "source": [
    "# Rotating a Vector"
   ]
  },
  {
   "cell_type": "markdown",
   "metadata": {},
   "source": [
    "When working with vectors and matrices, keep the following things in mind\n",
    "* By default, data are vectors.\n",
    "* Use *array* when you want to generate matrices."
   ]
  },
  {
   "cell_type": "markdown",
   "metadata": {},
   "source": [
    "# Noisy Data and Linefits"
   ]
  },
  {
   "cell_type": "markdown",
   "metadata": {},
   "source": [
    "Fit the following function: $y = k*x + d$"
   ]
  },
  {
   "cell_type": "code",
   "execution_count": 4,
   "metadata": {
    "collapsed": false
   },
   "outputs": [],
   "source": [
    "# Generate a noisy line\n",
    "t = arange(-100,100)\n",
    "\n",
    "# use a Python \"dictionary\" for named variables\n",
    "par = {'offset':100, 'slope':0.5, 'noiseAmp':4}\n",
    "x = par['offset'] + par['slope']*t + par['noiseAmp']*randn(len(t))"
   ]
  },
  {
   "cell_type": "code",
   "execution_count": 5,
   "metadata": {
    "collapsed": false
   },
   "outputs": [
    {
     "data": {
      "text/plain": [
       "[<matplotlib.lines.Line2D at 0x8aa41f0>]"
      ]
     },
     "execution_count": 5,
     "metadata": {},
     "output_type": "execute_result"
    },
    {
     "data": {
      "image/png": "[encoded data removed]",
      "text/plain": [
       "<matplotlib.figure.Figure at 0x71a89b0>"
      ]
     },
     "metadata": {},
     "output_type": "display_data"
    }
   ],
   "source": [
    "# Boolean indexing works in Python: select \"late\" values, i.e. with t>10\n",
    "xHigh = x[t>10]\n",
    "tHigh = t[t>10]\n",
    "\n",
    "# Plot the \"late\" data\n",
    "plot(tHigh, xHigh)"
   ]
  },
  {
   "cell_type": "code",
   "execution_count": 6,
   "metadata": {
    "collapsed": false
   },
   "outputs": [
    {
     "data": {
      "text/plain": [
       "array([3, 4, 5, 6, 7])"
      ]
     },
     "execution_count": 6,
     "metadata": {},
     "output_type": "execute_result"
    }
   ],
   "source": [
    "# Boolean indices can be combined:\n",
    "x = arange(10)\n",
    "topRange = x>2\n",
    "bottomRange = x<8\n",
    "x[topRange & bottomRange]"
   ]
  },
  {
   "cell_type": "code",
   "execution_count": 7,
   "metadata": {
    "collapsed": false
   },
   "outputs": [],
   "source": [
    "# Determine the best-fit line\n",
    "# To do so, you have to generate a so-called Design Matrix, with \"time\" in the first\n",
    "# column, and a column of \"1\" in the second column:\n",
    "xMat = vstack((tHigh, ones(len(tHigh)))).T\n",
    "slope, intercept = linalg.lstsq(xMat, xHigh)[0]"
   ]
  },
  {
   "cell_type": "code",
   "execution_count": 8,
   "metadata": {
    "collapsed": false
   },
   "outputs": [
    {
     "name": "stdout",
     "output_type": "stream",
     "text": [
      "Fit line: intercept = 99.776, and slope = 0.500\n"
     ]
    },
    {
     "data": {
      "image/png": "[encoded data removed]",
      "text/plain": [
       "<matplotlib.figure.Figure at 0x87d0770>"
      ]
     },
     "metadata": {},
     "output_type": "display_data"
    }
   ],
   "source": [
    "# Show and plot the fit, and save it to a PNG-file with a medium resolution.\n",
    "# The \"modern\" way of Python-formatting is used\n",
    "plot(tHigh, xHigh)\n",
    "plot(tHigh, intercept + slope*tHigh, 'r')\n",
    "savefig('linefit.png', dpi=200)\n",
    "print('Fit line: intercept = {0:5.3f}, and slope = {1:5.3f}'.format(intercept, slope))"
   ]
  },
  {
   "cell_type": "markdown",
   "metadata": {},
   "source": [
    "# Pandas"
   ]
  },
  {
   "cell_type": "code",
   "execution_count": 9,
   "metadata": {
    "collapsed": false
   },
   "outputs": [
    {
     "name": "stdout",
     "output_type": "stream",
     "text": [
      "\n",
      "-------------------------Summary of Regression Analysis-------------------------\n",
      "\n",
      "Formula: Y ~ <x> + <intercept>\n",
      "\n",
      "Number of Observations:         89\n",
      "Number of Degrees of Freedom:   2\n",
      "\n",
      "R-squared:         0.9112\n",
      "Adj R-squared:     0.9102\n",
      "\n",
      "Rmse:              4.0593\n",
      "\n",
      "F-stat (1, 87):   892.6411, p-value:     0.0000\n",
      "\n",
      "Degrees of Freedom: model 1, resid 87\n",
      "\n",
      "-----------------------Summary of Estimated Coefficients------------------------\n",
      "      Variable       Coef    Std Err     t-stat    p-value    CI 2.5%   CI 97.5%\n",
      "--------------------------------------------------------------------------------\n",
      "             x     0.5004     0.0167      29.88     0.0000     0.4676     0.5332\n",
      "     intercept    99.7760     1.0167      98.14     0.0000    97.7832   101.7688\n",
      "---------------------------------End of Summary---------------------------------\n",
      "\n"
     ]
    }
   ],
   "source": [
    "# If you want to know confidence intervals, best switch to \"pandas\"\n",
    "# Pandas is mainly used for statistics and worksheet-like data\n",
    "import pandas\n",
    "\n",
    "# Note that this is an advanced topic, and requires new data structures\n",
    "# such ad \"DataFrames\" and \"ordinary-least-squares\" or \"ols-models\".\n",
    "myDict = {'x':tHigh, 'y':xHigh}\n",
    "df = pandas.DataFrame(myDict)\n",
    "model = pandas.ols(y=df['y'], x=df['x'])\n",
    "print(model)"
   ]
  },
  {
   "cell_type": "code",
   "execution_count": 10,
   "metadata": {
    "collapsed": false
   },
   "outputs": [
    {
     "name": "stdout",
     "output_type": "stream",
     "text": [
      "3.4.3 (v3.4.3:9b73f1c3e601, Feb 24 2015, 22:43:06) [MSC v.1600 32 bit (Intel)]\n"
     ]
    }
   ],
   "source": [
    "import sys\n",
    "print(sys.version)"
   ]
  },
  {
   "cell_type": "markdown",
   "metadata": {},
   "source": [
    "# More Python Info on the Web"
   ]
  },
  {
   "cell_type": "markdown",
   "metadata": {},
   "source": [
    "[http://scipy-lectures.github.com/](http://scipy-lectures.github.com/) Python Scientifc Lecture Notes. **If you read nothing else, read this!**\n",
    "\n",
    "[http://wiki.scipy.org/NumPy_for_Matlab_Users/](http://wiki.scipy.org/NumPy_for_Matlab_Users/) Start here if you have lots of Matlab experience.\n",
    "\n",
    "[https://docs.python.org/3.4/tutorial/](https://docs.python.org/3.4/tutorial/) The Python tutorial. The original introduction.\n",
    "\n",
    "[http://jrjohansson.github.com/](http://jrjohansson.github.com/) Lectures on scienti\f",
    "c computing with Python. Great ipython notebooks!"
   ]
  }
 ],
 "metadata": {
  "celltoolbar": "Raw Cell Format",
  "kernelspec": {
   "display_name": "Python 3",
   "language": "python",
   "name": "python3"
  },
  "language_info": {
   "codemirror_mode": {
    "name": "ipython",
    "version": 3
   },
   "file_extension": ".py",
   "mimetype": "text/x-python",
   "name": "python",
   "nbconvert_exporter": "python",
   "pygments_lexer": "ipython3",
   "version": "3.4.3"
  }
 },
 "nbformat": 4,
 "nbformat_minor": 0
}
